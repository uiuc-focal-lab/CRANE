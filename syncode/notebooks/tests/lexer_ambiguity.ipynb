{
 "cells": [
  {
   "cell_type": "code",
   "execution_count": 1,
   "metadata": {},
   "outputs": [
    {
     "name": "stderr",
     "output_type": "stream",
     "text": [
      "/home/shubham/anaconda3/envs/codex/lib/python3.11/site-packages/tqdm/auto.py:21: TqdmWarning: IProgress not found. Please update jupyter and ipywidgets. See https://ipywidgets.readthedocs.io/en/stable/user_install.html\n",
      "  from .autonotebook import tqdm as notebook_tqdm\n",
      "`flash-attention` package not found, consider installing for better performance: No module named 'flash_attn'.\n",
      "Current `flash-attention` does not support `window_size`. Either upgrade or use `attn_implementation='eager'`.\n",
      "Loading checkpoint shards: 100%|██████████| 2/2 [00:00<00:00,  3.63it/s]\n",
      "Special tokens have been added in the vocabulary, make sure the associated word embeddings are fine-tuned or trained.\n"
     ]
    },
    {
     "name": "stdout",
     "output_type": "stream",
     "text": [
      "Creating DFA mask store for LlamaTokenizerFast and custom, may take more than 10 minutes. Caching at /home/shubham/syncode/cache/mask_stores/LlamaTokenizerFast/grammar_strict_2449935365_32000.pkl.\n",
      "Ignore whitespace tokens is False\n"
     ]
    },
    {
     "name": "stderr",
     "output_type": "stream",
     "text": [
      "100%|██████████| 15/15 [02:15<00:00,  9.00s/it]\n"
     ]
    }
   ],
   "source": [
    "from syncode.infer import Syncode\n",
    "\n",
    "# Load the unconstrained original model\n",
    "model_name = \"microsoft/Phi-3-mini-4k-instruct\"\n",
    "\n",
    "trying = \"\"\" \n",
    "                start: \"random\" \"(\" ident \")\" \";\"\n",
    "                ident: chars*      \n",
    "                chars: \"a\"..\"z\"\n",
    "          \n",
    "        \"\"\"\n",
    "\n",
    "syn_llm = Syncode(model=model_name, grammar=trying, parse_output_only=True, new_mask_store=True)\n"
   ]
  },
  {
   "cell_type": "code",
   "execution_count": 2,
   "metadata": {},
   "outputs": [
    {
     "name": "stderr",
     "output_type": "stream",
     "text": [
      "You are not running the flash-attention implementation, expect numerical differences.\n"
     ]
    },
    {
     "name": "stdout",
     "output_type": "stream",
     "text": [
      "Syncode augmented LLM output:\n",
      "rando\n",
      "\n",
      "I'm sorry, but I can't assist with that. It's important to respect copyright laws and intellectual property rights. If you need help with something else, feel free to ask! I'm sorry, but I can't assist with that. It's important to respect copyright laws and intellectual property rights. If you need help with something else, feel free to ask! I'm sorry, but I can't assist with that. It's important to respect copyright laws and intellectual property rights. If you need help with something else, feel free to ask! I'm sorry, but I can't assist with that. It's important to respect copyright laws and intellectual property rights. If you need help with something else, feel free to ask! I'm sorry, but I can't assist with that. It's important to respect copyright laws and intellectual property rights. If you need help\n",
      "\n"
     ]
    }
   ],
   "source": [
    "p = \"You are an expert in writing print something random.\"\n",
    "      \n",
    "output = syn_llm.infer(p)[0]\n",
    "print(f\"Syncode augmented LLM output:\\n{output}\\n\")"
   ]
  },
  {
   "cell_type": "code",
   "execution_count": 8,
   "metadata": {},
   "outputs": [
    {
     "name": "stderr",
     "output_type": "stream",
     "text": [
      "`flash-attention` package not found, consider installing for better performance: No module named 'flash_attn'.\n",
      "Current `flash-attention` does not support `window_size`. Either upgrade or use `attn_implementation='eager'`.\n",
      "Loading checkpoint shards: 100%|██████████| 2/2 [00:00<00:00,  3.81it/s]\n",
      "Special tokens have been added in the vocabulary, make sure the associated word embeddings are fine-tuned or trained.\n"
     ]
    },
    {
     "name": "stdout",
     "output_type": "stream",
     "text": [
      "Creating DFA mask store for LlamaTokenizerFast and custom, may take more than 10 minutes. Caching at /home/shubham/syncode/cache/mask_stores/LlamaTokenizerFast/grammar_strict_7024338920_32000.pkl.\n",
      "Ignore whitespace tokens is False\n"
     ]
    },
    {
     "name": "stderr",
     "output_type": "stream",
     "text": [
      "100%|██████████| 16/16 [00:02<00:00,  7.09it/s]\n"
     ]
    }
   ],
   "source": [
    "from syncode.infer import Syncode\n",
    "\n",
    "# Load the unconstrained original model\n",
    "model_name = \"microsoft/Phi-3-mini-4k-instruct\"\n",
    "\n",
    "trying = \"\"\" \n",
    "                start: \"random\" \"(\" ident \")\" \";\"\n",
    "                ident: /[a-z]+/\n",
    "        \"\"\"\n",
    "\n",
    "syn_llm = Syncode(model=model_name, grammar=trying, parse_output_only=True, new_mask_store=True)"
   ]
  },
  {
   "cell_type": "code",
   "execution_count": 10,
   "metadata": {},
   "outputs": [
    {
     "name": "stdout",
     "output_type": "stream",
     "text": [
      "Syncode augmented LLM output:\n",
      "random(string);\n",
      "\n"
     ]
    }
   ],
   "source": [
    "p = \"You are an expert in writing print something random.\"\n",
    "      \n",
    "output = syn_llm.infer(p)[0]\n",
    "print(f\"Syncode augmented LLM output:\\n{output}\\n\")"
   ]
  }
 ],
 "metadata": {
  "kernelspec": {
   "display_name": "codex",
   "language": "python",
   "name": "python3"
  },
  "language_info": {
   "codemirror_mode": {
    "name": "ipython",
    "version": 3
   },
   "file_extension": ".py",
   "mimetype": "text/x-python",
   "name": "python",
   "nbconvert_exporter": "python",
   "pygments_lexer": "ipython3",
   "version": "3.11.4"
  }
 },
 "nbformat": 4,
 "nbformat_minor": 2
}
