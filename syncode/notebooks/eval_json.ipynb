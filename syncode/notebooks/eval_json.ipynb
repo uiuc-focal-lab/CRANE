{
 "cells": [
  {
   "cell_type": "code",
   "execution_count": 1,
   "metadata": {},
   "outputs": [
    {
     "name": "stderr",
     "output_type": "stream",
     "text": [
      "/home/shubham/anaconda3/envs/codex/lib/python3.11/site-packages/tqdm/auto.py:21: TqdmWarning: IProgress not found. Please update jupyter and ipywidgets. See https://ipywidgets.readthedocs.io/en/stable/user_install.html\n",
      "  from .autonotebook import tqdm as notebook_tqdm\n",
      "Loading checkpoint shards: 100%|██████████| 2/2 [00:00<00:00, 11.82it/s]\n",
      "Loading checkpoint shards: 100%|██████████| 2/2 [00:00<00:00, 10.95it/s]\n"
     ]
    }
   ],
   "source": [
    "# We compare the original model with SynCode in generating JSON with valid schema\n",
    "# Running Gemma-2-2b-it on JSON evaluation from nousResearch/json-mode-eval\n",
    "import sys, os\n",
    "sys.path.append(os.getcwd() + '/../')\n",
    "from syncode import Syncode\n",
    "\n",
    "# Load original model\n",
    "llm = Syncode(\n",
    "    mode=\"original\",\n",
    "    model=\"google/gemma-2-2b-it\",\n",
    "    grammar=\"json\",\n",
    "    max_new_tokens=400,\n",
    ")\n",
    "\n",
    "# Load model with grammar mask\n",
    "syn_llm = Syncode(\n",
    "    mode=\"grammar_mask\",\n",
    "    model=\"google/gemma-2-2b-it\",\n",
    "    grammar=\"json\",\n",
    "    max_new_tokens=400,\n",
    "    parser=\"lr\",\n",
    ")"
   ]
  },
  {
   "cell_type": "code",
   "execution_count": 5,
   "metadata": {},
   "outputs": [
    {
     "name": "stderr",
     "output_type": "stream",
     "text": [
      "100%|██████████| 100/100 [07:11<00:00,  4.32s/it]"
     ]
    },
    {
     "name": "stdout",
     "output_type": "stream",
     "text": [
      "Result: {'pass@1': 0.41}\n"
     ]
    },
    {
     "name": "stderr",
     "output_type": "stream",
     "text": [
      "\n"
     ]
    }
   ],
   "source": [
    "# Accuracy of original model with original prompt ending \"JSON:\"\n",
    "_ = llm.evaluate(dataset=\"json_eval\", prompt_type=\"original\")"
   ]
  },
  {
   "cell_type": "code",
   "execution_count": 4,
   "metadata": {},
   "outputs": [
    {
     "name": "stderr",
     "output_type": "stream",
     "text": [
      "100%|██████████| 100/100 [05:54<00:00,  3.54s/it]"
     ]
    },
    {
     "name": "stdout",
     "output_type": "stream",
     "text": [
      "Result: {'pass@1': 0.43}\n"
     ]
    },
    {
     "name": "stderr",
     "output_type": "stream",
     "text": [
      "\n"
     ]
    }
   ],
   "source": [
    "# Accuracy of the model with additionally explicitly specifying \"Generate only JSON\" in the prompt\n",
    "_ = llm.evaluate(dataset=\"json_eval\", prompt_type=\"explicit\")"
   ]
  },
  {
   "cell_type": "code",
   "execution_count": 2,
   "metadata": {},
   "outputs": [
    {
     "name": "stderr",
     "output_type": "stream",
     "text": [
      "100%|██████████| 100/100 [07:50<00:00,  4.71s/it]"
     ]
    },
    {
     "name": "stdout",
     "output_type": "stream",
     "text": [
      "Result: {'pass@1': 0.99}\n"
     ]
    },
    {
     "name": "stderr",
     "output_type": "stream",
     "text": [
      "\n"
     ]
    }
   ],
   "source": [
    "result = syn_llm.evaluate(dataset=\"json_eval\")"
   ]
  }
 ],
 "metadata": {
  "kernelspec": {
   "display_name": "codex",
   "language": "python",
   "name": "python3"
  },
  "language_info": {
   "codemirror_mode": {
    "name": "ipython",
    "version": 3
   },
   "file_extension": ".py",
   "mimetype": "text/x-python",
   "name": "python",
   "nbconvert_exporter": "python",
   "pygments_lexer": "ipython3",
   "version": "3.11.4"
  }
 },
 "nbformat": 4,
 "nbformat_minor": 2
}
