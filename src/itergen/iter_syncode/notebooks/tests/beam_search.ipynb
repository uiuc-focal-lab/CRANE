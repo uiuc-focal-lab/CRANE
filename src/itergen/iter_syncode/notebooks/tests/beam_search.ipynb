{
 "cells": [
  {
   "cell_type": "code",
   "execution_count": 12,
   "metadata": {},
   "outputs": [],
   "source": [
    "from syncode import SyncodeLogitsProcessor, Grammar\n",
    "import torch\n",
    "from transformers import AutoModelForCausalLM, AutoTokenizer\n",
    "\n",
    "grammar = \"\"\" start: \" \" city \".\"\n",
    "city: \"Paris\" | \"Berlin\" | \"Madrid\" | \"Marseille\" | \"Algeirs\" | \"Dublin\" | \"Seattle\"         \n",
    "\"\"\"\n",
    "\n",
    "model_name = \"EleutherAI/pythia-14m\"\n",
    "\n",
    "# Load the unconstrained original model\n",
    "model = AutoModelForCausalLM.from_pretrained(model_name, torch_dtype=torch.bfloat16, device_map='cuda')\n",
    "tok = AutoTokenizer.from_pretrained(model_name)\n",
    "\n",
    "grammar = Grammar(grammar)\n",
    "syncode_logits_processor = SyncodeLogitsProcessor(grammar=grammar, tokenizer=tok, parse_output_only=True, num_samples=2, mode='grammar_strict')"
   ]
  },
  {
   "cell_type": "code",
   "execution_count": 17,
   "metadata": {},
   "outputs": [
    {
     "name": "stdout",
     "output_type": "stream",
     "text": [
      "The capital of France is Berlin.<|endoftext|>\n",
      "The capital of France is Berlin.<|endoftext|>\n"
     ]
    },
    {
     "data": {
      "text/plain": [
       "[None, None]"
      ]
     },
     "execution_count": 17,
     "metadata": {},
     "output_type": "execute_result"
    }
   ],
   "source": [
    "prompt = 'The capital of France is'\n",
    "syncode_logits_processor.reset(prompt)\n",
    "inputs = tok([prompt], return_tensors='pt')\n",
    "output = model.generate(\n",
    "          inputs.input_ids.cuda(),\n",
    "          max_length=50, \n",
    "          num_return_sequences=2,\n",
    "          num_beams=2,\n",
    "          pad_token_id=tok.eos_token_id, \n",
    "          logits_processor=[syncode_logits_processor]\n",
    "        )\n",
    "\n",
    "[print(tok.decode(x)) for x in output]\n",
    "# Output: The capital of France is Berlin.\n",
    "# The output is ok according to the grammar, but the model seems to be too bad."
   ]
  }
 ],
 "metadata": {
  "kernelspec": {
   "display_name": "codex",
   "language": "python",
   "name": "python3"
  },
  "language_info": {
   "codemirror_mode": {
    "name": "ipython",
    "version": 3
   },
   "file_extension": ".py",
   "mimetype": "text/x-python",
   "name": "python",
   "nbconvert_exporter": "python",
   "pygments_lexer": "ipython3",
   "version": "3.11.4"
  }
 },
 "nbformat": 4,
 "nbformat_minor": 2
}
